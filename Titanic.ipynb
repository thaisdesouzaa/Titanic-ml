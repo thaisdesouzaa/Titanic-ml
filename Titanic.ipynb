{
  "nbformat": 4,
  "nbformat_minor": 0,
  "metadata": {
    "colab": {
      "name": "Titanic.ipynb",
      "provenance": []
    },
    "kernelspec": {
      "name": "python3",
      "display_name": "Python 3"
    }
  },
  "cells": [
    {
      "cell_type": "markdown",
      "metadata": {
        "id": "g9tWSmxsP1nz"
      },
      "source": [
        "* pandas é a biblioteca para extração e leitura de dados\r\n",
        "* sklearn é a biblioteca que tem modelos\r\n",
        "* numpy é a biblioteca de python\r\n",
        "* train_test_split separa os dados de treino e de teste\r\n",
        "* logisticRegression é o modelo que irá ser usado\r\n",
        "* pyplot é uma biblioteca de gráficos"
      ]
    },
    {
      "cell_type": "code",
      "metadata": {
        "id": "l-EsF6fHOBAH"
      },
      "source": [
        "import pandas as pd\r\n",
        "import sklearn\r\n",
        "import numpy as np\r\n",
        "from sklearn.model_selection import train_test_split\r\n",
        "from sklearn.metrics import accuracy_score\r\n",
        "from sklearn.linear_model import LogisticRegression\r\n",
        "from matplotlib import pyplot"
      ],
      "execution_count": null,
      "outputs": []
    },
    {
      "cell_type": "markdown",
      "metadata": {
        "id": "IOhU3oEDO0Y9"
      },
      "source": [
        "lendo dados do csv"
      ]
    },
    {
      "cell_type": "code",
      "metadata": {
        "id": "Uz1oDhdHOV3H"
      },
      "source": [
        "df = pd.read_csv('https://raw.githubusercontent.com/profmoisesomena/escience_and_tools/master/data/titanic_lab_sample.csv', header = 0, names=['classe', 'sexo', 'idade', 'irmao_conjuge', 'pais_criancas', 'tarifa', 'sobreviveu'])"
      ],
      "execution_count": null,
      "outputs": []
    },
    {
      "cell_type": "code",
      "metadata": {
        "colab": {
          "base_uri": "https://localhost:8080/",
          "height": 297
        },
        "id": "Bk-z13q0OwlF",
        "outputId": "6cd279af-59cf-41dc-a059-5772c09519f4"
      },
      "source": [
        "df.describe()"
      ],
      "execution_count": null,
      "outputs": [
        {
          "output_type": "execute_result",
          "data": {
            "text/html": [
              "<div>\n",
              "<style scoped>\n",
              "    .dataframe tbody tr th:only-of-type {\n",
              "        vertical-align: middle;\n",
              "    }\n",
              "\n",
              "    .dataframe tbody tr th {\n",
              "        vertical-align: top;\n",
              "    }\n",
              "\n",
              "    .dataframe thead th {\n",
              "        text-align: right;\n",
              "    }\n",
              "</style>\n",
              "<table border=\"1\" class=\"dataframe\">\n",
              "  <thead>\n",
              "    <tr style=\"text-align: right;\">\n",
              "      <th></th>\n",
              "      <th>classe</th>\n",
              "      <th>sexo</th>\n",
              "      <th>idade</th>\n",
              "      <th>irmao_conjuge</th>\n",
              "      <th>pais_criancas</th>\n",
              "      <th>tarifa</th>\n",
              "      <th>sobreviveu</th>\n",
              "    </tr>\n",
              "  </thead>\n",
              "  <tbody>\n",
              "    <tr>\n",
              "      <th>count</th>\n",
              "      <td>1108.000000</td>\n",
              "      <td>1108.000000</td>\n",
              "      <td>1108.000000</td>\n",
              "      <td>1108.000000</td>\n",
              "      <td>1108.000000</td>\n",
              "      <td>1108.000000</td>\n",
              "      <td>1108.000000</td>\n",
              "    </tr>\n",
              "    <tr>\n",
              "      <th>mean</th>\n",
              "      <td>2.215704</td>\n",
              "      <td>0.387184</td>\n",
              "      <td>30.089513</td>\n",
              "      <td>0.518051</td>\n",
              "      <td>0.435018</td>\n",
              "      <td>5135.653576</td>\n",
              "      <td>0.420578</td>\n",
              "    </tr>\n",
              "    <tr>\n",
              "      <th>std</th>\n",
              "      <td>0.858270</td>\n",
              "      <td>0.487326</td>\n",
              "      <td>13.801245</td>\n",
              "      <td>0.956431</td>\n",
              "      <td>0.913772</td>\n",
              "      <td>27541.433817</td>\n",
              "      <td>0.493875</td>\n",
              "    </tr>\n",
              "    <tr>\n",
              "      <th>min</th>\n",
              "      <td>1.000000</td>\n",
              "      <td>0.000000</td>\n",
              "      <td>0.166700</td>\n",
              "      <td>0.000000</td>\n",
              "      <td>0.000000</td>\n",
              "      <td>0.000000</td>\n",
              "      <td>0.000000</td>\n",
              "    </tr>\n",
              "    <tr>\n",
              "      <th>25%</th>\n",
              "      <td>1.000000</td>\n",
              "      <td>0.000000</td>\n",
              "      <td>22.000000</td>\n",
              "      <td>0.000000</td>\n",
              "      <td>0.000000</td>\n",
              "      <td>9.840650</td>\n",
              "      <td>0.000000</td>\n",
              "    </tr>\n",
              "    <tr>\n",
              "      <th>50%</th>\n",
              "      <td>2.000000</td>\n",
              "      <td>0.000000</td>\n",
              "      <td>30.089513</td>\n",
              "      <td>0.000000</td>\n",
              "      <td>0.000000</td>\n",
              "      <td>26.000000</td>\n",
              "      <td>0.000000</td>\n",
              "    </tr>\n",
              "    <tr>\n",
              "      <th>75%</th>\n",
              "      <td>3.000000</td>\n",
              "      <td>1.000000</td>\n",
              "      <td>37.000000</td>\n",
              "      <td>1.000000</td>\n",
              "      <td>1.000000</td>\n",
              "      <td>71.837475</td>\n",
              "      <td>1.000000</td>\n",
              "    </tr>\n",
              "    <tr>\n",
              "      <th>max</th>\n",
              "      <td>3.000000</td>\n",
              "      <td>1.000000</td>\n",
              "      <td>80.000000</td>\n",
              "      <td>8.000000</td>\n",
              "      <td>9.000000</td>\n",
              "      <td>262375.000000</td>\n",
              "      <td>1.000000</td>\n",
              "    </tr>\n",
              "  </tbody>\n",
              "</table>\n",
              "</div>"
            ],
            "text/plain": [
              "            classe         sexo  ...         tarifa   sobreviveu\n",
              "count  1108.000000  1108.000000  ...    1108.000000  1108.000000\n",
              "mean      2.215704     0.387184  ...    5135.653576     0.420578\n",
              "std       0.858270     0.487326  ...   27541.433817     0.493875\n",
              "min       1.000000     0.000000  ...       0.000000     0.000000\n",
              "25%       1.000000     0.000000  ...       9.840650     0.000000\n",
              "50%       2.000000     0.000000  ...      26.000000     0.000000\n",
              "75%       3.000000     1.000000  ...      71.837475     1.000000\n",
              "max       3.000000     1.000000  ...  262375.000000     1.000000\n",
              "\n",
              "[8 rows x 7 columns]"
            ]
          },
          "metadata": {
            "tags": []
          },
          "execution_count": 6
        }
      ]
    },
    {
      "cell_type": "markdown",
      "metadata": {
        "id": "45Bo70JYYgD6"
      },
      "source": [
        "array contêm todos os valores da tabela"
      ]
    },
    {
      "cell_type": "code",
      "metadata": {
        "id": "EIHwnrT9YHYv"
      },
      "source": [
        "array = df.values"
      ],
      "execution_count": null,
      "outputs": []
    },
    {
      "cell_type": "markdown",
      "metadata": {
        "id": "ddQm8s0GafH7"
      },
      "source": [
        "y contêm se sobreviveu ou não, x contêm o resto"
      ]
    },
    {
      "cell_type": "code",
      "metadata": {
        "id": "yMiM0o2_YYU0"
      },
      "source": [
        "X, y = array[:, 0:6], array[:,6]"
      ],
      "execution_count": null,
      "outputs": []
    },
    {
      "cell_type": "markdown",
      "metadata": {
        "id": "RPPpWzi-cc_M"
      },
      "source": [
        "* separando dados para treino e para teste\r\n",
        "* passando como parametro os valores, a porcentagem para o teste ...\r\n",
        "* 25% para teste e 75% para treino"
      ]
    },
    {
      "cell_type": "code",
      "metadata": {
        "id": "dFMEELslZGbU"
      },
      "source": [
        "X_train, X_teste, y_train, y_teste = train_test_split(X, y, test_size = 0.25, random_state = 0, shuffle = True)"
      ],
      "execution_count": null,
      "outputs": []
    },
    {
      "cell_type": "markdown",
      "metadata": {
        "id": "zMNfPBH2dSS5"
      },
      "source": [
        "declarando o modelo que irá ser aplicado"
      ]
    },
    {
      "cell_type": "code",
      "metadata": {
        "id": "Vjpl3IJhc1u1"
      },
      "source": [
        "model = LogisticRegression()"
      ],
      "execution_count": null,
      "outputs": []
    },
    {
      "cell_type": "markdown",
      "metadata": {
        "id": "lyh-s8VodNwX"
      },
      "source": [
        "Fazendo o modelo aprender com os dados de treino"
      ]
    },
    {
      "cell_type": "code",
      "metadata": {
        "colab": {
          "base_uri": "https://localhost:8080/"
        },
        "id": "wBAvh4Ksc90J",
        "outputId": "4a2324c7-8995-4732-d857-78732bca9f54"
      },
      "source": [
        "model.fit(X_train, y_train)"
      ],
      "execution_count": null,
      "outputs": [
        {
          "output_type": "execute_result",
          "data": {
            "text/plain": [
              "LogisticRegression(C=1.0, class_weight=None, dual=False, fit_intercept=True,\n",
              "                   intercept_scaling=1, l1_ratio=None, max_iter=100,\n",
              "                   multi_class='auto', n_jobs=None, penalty='l2',\n",
              "                   random_state=None, solver='lbfgs', tol=0.0001, verbose=0,\n",
              "                   warm_start=False)"
            ]
          },
          "metadata": {
            "tags": []
          },
          "execution_count": 11
        }
      ]
    },
    {
      "cell_type": "markdown",
      "metadata": {
        "id": "8X57CLM6gQSo"
      },
      "source": [
        "* Mostrando a precisão dos dados de treino\r\n",
        "* faz a predição com os dados de treino e depois verifica o acerto com base no y_train\r\n",
        "* y_train contêm as respostas (coluna sobreviveu)"
      ]
    },
    {
      "cell_type": "code",
      "metadata": {
        "colab": {
          "base_uri": "https://localhost:8080/"
        },
        "id": "5Lqp0HOEdNQt",
        "outputId": "332ac754-9f5d-44c4-abb5-1aec9555a640"
      },
      "source": [
        "print(\"\\n --- Precisão de treino --- \\n ==> \", sklearn.metrics.accuracy_score(y_train, model.predict(X_train)))"
      ],
      "execution_count": null,
      "outputs": [
        {
          "output_type": "stream",
          "text": [
            "\n",
            " --- Precisão de treino --- \n",
            " ==>  0.766546329723225\n"
          ],
          "name": "stdout"
        }
      ]
    },
    {
      "cell_type": "code",
      "metadata": {
        "colab": {
          "base_uri": "https://localhost:8080/"
        },
        "id": "h4gTcZF7jAKY",
        "outputId": "38f8b4bb-205f-4d9a-877f-63182d4a37eb"
      },
      "source": [
        "print(\"\\n --- Precisão de teste ---\\n ==>\", sklearn.metrics.accuracy_score(y_teste, model.predict(X_teste)))"
      ],
      "execution_count": null,
      "outputs": [
        {
          "output_type": "stream",
          "text": [
            "\n",
            " --- Precisão de teste ---\n",
            " ==> 0.7292418772563177\n"
          ],
          "name": "stdout"
        }
      ]
    },
    {
      "cell_type": "markdown",
      "metadata": {
        "id": "S52m0I74kSI3"
      },
      "source": [
        "* Gera uma tabela (DataFrame)\r\n",
        "* Mostra as predições e o \"gabarito\"\r\n",
        "* .tail pega os ultimos\r\n",
        "* .head pega os primeiros"
      ]
    },
    {
      "cell_type": "code",
      "metadata": {
        "colab": {
          "base_uri": "https://localhost:8080/",
          "height": 204
        },
        "id": "AnNvQW5ejaAA",
        "outputId": "7af6b4ef-fe1c-4323-8000-25a777e6e38a"
      },
      "source": [
        "pd.DataFrame(data = np.c_[np.c_[X_teste, y_teste], model.predict(X_teste)],\r\n",
        "             columns = ['classe', 'sexo', 'idade', 'irmao_conjuge', 'pais_criancas', 'tarifa', 'sobreviveu', 'predicao']).tail(5)"
      ],
      "execution_count": null,
      "outputs": [
        {
          "output_type": "execute_result",
          "data": {
            "text/html": [
              "<div>\n",
              "<style scoped>\n",
              "    .dataframe tbody tr th:only-of-type {\n",
              "        vertical-align: middle;\n",
              "    }\n",
              "\n",
              "    .dataframe tbody tr th {\n",
              "        vertical-align: top;\n",
              "    }\n",
              "\n",
              "    .dataframe thead th {\n",
              "        text-align: right;\n",
              "    }\n",
              "</style>\n",
              "<table border=\"1\" class=\"dataframe\">\n",
              "  <thead>\n",
              "    <tr style=\"text-align: right;\">\n",
              "      <th></th>\n",
              "      <th>classe</th>\n",
              "      <th>sexo</th>\n",
              "      <th>idade</th>\n",
              "      <th>irmao_conjuge</th>\n",
              "      <th>pais_criancas</th>\n",
              "      <th>tarifa</th>\n",
              "      <th>sobreviveu</th>\n",
              "      <th>predicao</th>\n",
              "    </tr>\n",
              "  </thead>\n",
              "  <tbody>\n",
              "    <tr>\n",
              "      <th>272</th>\n",
              "      <td>2.0</td>\n",
              "      <td>1.0</td>\n",
              "      <td>30.000000</td>\n",
              "      <td>3.0</td>\n",
              "      <td>0.0</td>\n",
              "      <td>21.0000</td>\n",
              "      <td>1.0</td>\n",
              "      <td>1.0</td>\n",
              "    </tr>\n",
              "    <tr>\n",
              "      <th>273</th>\n",
              "      <td>3.0</td>\n",
              "      <td>1.0</td>\n",
              "      <td>27.000000</td>\n",
              "      <td>0.0</td>\n",
              "      <td>0.0</td>\n",
              "      <td>7925.0000</td>\n",
              "      <td>1.0</td>\n",
              "      <td>0.0</td>\n",
              "    </tr>\n",
              "    <tr>\n",
              "      <th>274</th>\n",
              "      <td>1.0</td>\n",
              "      <td>0.0</td>\n",
              "      <td>24.000000</td>\n",
              "      <td>1.0</td>\n",
              "      <td>0.0</td>\n",
              "      <td>82.2667</td>\n",
              "      <td>1.0</td>\n",
              "      <td>0.0</td>\n",
              "    </tr>\n",
              "    <tr>\n",
              "      <th>275</th>\n",
              "      <td>3.0</td>\n",
              "      <td>1.0</td>\n",
              "      <td>30.089513</td>\n",
              "      <td>1.0</td>\n",
              "      <td>1.0</td>\n",
              "      <td>22.3583</td>\n",
              "      <td>1.0</td>\n",
              "      <td>1.0</td>\n",
              "    </tr>\n",
              "    <tr>\n",
              "      <th>276</th>\n",
              "      <td>1.0</td>\n",
              "      <td>0.0</td>\n",
              "      <td>39.000000</td>\n",
              "      <td>0.0</td>\n",
              "      <td>0.0</td>\n",
              "      <td>29.7000</td>\n",
              "      <td>0.0</td>\n",
              "      <td>0.0</td>\n",
              "    </tr>\n",
              "  </tbody>\n",
              "</table>\n",
              "</div>"
            ],
            "text/plain": [
              "     classe  sexo      idade  ...     tarifa  sobreviveu  predicao\n",
              "272     2.0   1.0  30.000000  ...    21.0000         1.0       1.0\n",
              "273     3.0   1.0  27.000000  ...  7925.0000         1.0       0.0\n",
              "274     1.0   0.0  24.000000  ...    82.2667         1.0       0.0\n",
              "275     3.0   1.0  30.089513  ...    22.3583         1.0       1.0\n",
              "276     1.0   0.0  39.000000  ...    29.7000         0.0       0.0\n",
              "\n",
              "[5 rows x 8 columns]"
            ]
          },
          "metadata": {
            "tags": []
          },
          "execution_count": 14
        }
      ]
    }
  ]
}